{
 "cells": [
  {
   "cell_type": "code",
   "execution_count": 1,
   "id": "67acd289",
   "metadata": {},
   "outputs": [],
   "source": [
    "import torch"
   ]
  },
  {
   "cell_type": "code",
   "execution_count": 4,
   "id": "8a2c60ba",
   "metadata": {},
   "outputs": [
    {
     "name": "stdout",
     "output_type": "stream",
     "text": [
      "torch.Size([16, 200])\n",
      "torch.Size([16])\n",
      "torch.Size([])\n",
      "tensor(2.8137)\n",
      "2.813687801361084\n"
     ]
    }
   ],
   "source": [
    "x = torch.randn(16, 200)\n",
    "print(x.shape)\n",
    "\n",
    "x = torch.max(x, dim=1).values\n",
    "print(x.shape)\n",
    "\n",
    "x = torch.mean(x)\n",
    "print(x.shape)\n",
    "print(x)\n",
    "\n",
    "x = x.item()\n",
    "print(x)"
   ]
  },
  {
   "cell_type": "code",
   "execution_count": null,
   "id": "2961bd38",
   "metadata": {},
   "outputs": [],
   "source": []
  },
  {
   "cell_type": "code",
   "execution_count": null,
   "id": "c9ab8eb6",
   "metadata": {},
   "outputs": [],
   "source": []
  }
 ],
 "metadata": {
  "kernelspec": {
   "display_name": "ITER-physical-parameters-with-SciNet (3.11.12)",
   "language": "python",
   "name": "python3"
  },
  "language_info": {
   "codemirror_mode": {
    "name": "ipython",
    "version": 3
   },
   "file_extension": ".py",
   "mimetype": "text/x-python",
   "name": "python",
   "nbconvert_exporter": "python",
   "pygments_lexer": "ipython3",
   "version": "3.11.12"
  }
 },
 "nbformat": 4,
 "nbformat_minor": 5
}
